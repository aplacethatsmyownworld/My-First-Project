{
 "cells": [
  {
   "cell_type": "code",
   "execution_count": 1,
   "metadata": {
    "scrolled": true
   },
   "outputs": [
    {
     "name": "stdout",
     "output_type": "stream",
     "text": [
      "Hello, What's your name?May\n"
     ]
    }
   ],
   "source": [
    "import numpy as np\n",
    "from numpy.random import randint\n",
    "\n",
    "x = randint(1, 11, 1)\n",
    "\n",
    "name = input(\"Hello, What's your name?\").capitalize()\n",
    "\n"
   ]
  },
  {
   "cell_type": "code",
   "execution_count": 2,
   "metadata": {},
   "outputs": [
    {
     "name": "stdout",
     "output_type": "stream",
     "text": [
      "Okay May! I am guessing number between 1 and 10:\n"
     ]
    }
   ],
   "source": [
    "print(\"Okay\" + \" \" + name + \"! I am guessing number between 1 and 10:\")"
   ]
  },
  {
   "cell_type": "code",
   "execution_count": null,
   "metadata": {},
   "outputs": [],
   "source": [
    "number_of_guesses = 0\n",
    "\n",
    "while number_of_guesses < 4:\n",
    "    number = int(input())\n",
    "    number_of_guesses += 1\n",
    "    if number < x:\n",
    "        print(\"Your guess is too low\")\n",
    "    if number > x:\n",
    "        print(\"Your guess is too high\")\n",
    "    if number == x:\n",
    "        break\n",
    "if number == x:\n",
    "    print(\"You guessed the number\" + str(x) + \"! Great job\")\n",
    "else:\n",
    "    print(\"Sorry you reached the maximum number of tries. The right number is\" + str(x) + \"!\")"
   ]
  },
  {
   "cell_type": "code",
   "execution_count": null,
   "metadata": {},
   "outputs": [],
   "source": []
  },
  {
   "cell_type": "code",
   "execution_count": null,
   "metadata": {},
   "outputs": [],
   "source": []
  }
 ],
 "metadata": {
  "kernelspec": {
   "display_name": "Python 3",
   "language": "python",
   "name": "python3"
  },
  "language_info": {
   "codemirror_mode": {
    "name": "ipython",
    "version": 3
   },
   "file_extension": ".py",
   "mimetype": "text/x-python",
   "name": "python",
   "nbconvert_exporter": "python",
   "pygments_lexer": "ipython3",
   "version": "3.8.3"
  }
 },
 "nbformat": 4,
 "nbformat_minor": 4
}
